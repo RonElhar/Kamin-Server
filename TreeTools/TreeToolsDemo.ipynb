{
 "cells": [
  {
   "cell_type": "code",
   "execution_count": 1,
   "metadata": {},
   "outputs": [
    {
     "name": "stdout",
     "output_type": "stream",
     "text": [
      "Total trees loaded: 46\n"
     ]
    }
   ],
   "source": [
    "import TreeTools as tt\n",
    "trees = tt.load_list_of_trees('80919_labeled_trees.txt')\n",
    "print('Total trees loaded:', len(trees))"
   ]
  },
  {
   "cell_type": "code",
   "execution_count": 2,
   "metadata": {},
   "outputs": [
    {
     "name": "stdout",
     "output_type": "stream",
     "text": [
      "Our tree has 25 branches and total of 123 unique nodes\n",
      "Type of tree (hint: dictionary): <class 'dict'>\n",
      "A tree has the following keys: dict_keys(['node', 'children'])\n",
      "A node is a dictionary too and has the following keys:  dict_keys(['text', 'id', 'author', 'extra_data', 'timestamp'])\n",
      "Slagernicus : Abortion should be legal in my opinion for 4 main  ...\n",
      "A children is a list, where each element is a dictionary just like the \"tree\" object and has keys \"node\" & \"children\" \n",
      "dict_keys(['node', 'children'])\n"
     ]
    }
   ],
   "source": [
    "# Let's investigate one of the trees from that list\n",
    "tree = trees[0]\n",
    "nodes = tt.get_nodes(tree)\n",
    "branches = tt.get_branches(tree)\n",
    "print('Our tree has %d branches and total of %d unique nodes' % (len(branches), len(nodes)))\n",
    "print('Type of tree (hint: dictionary):', type(tree))\n",
    "print('A tree has the following keys:', tree.keys())\n",
    "print('A node is a dictionary too and has the following keys: ', tree['node'].keys())\n",
    "print(tree['node']['author'],':',tree['node']['text'][:50],'...')\n",
    "print('A children is a list, where each element is a dictionary just like the \"tree\" object and has keys \"node\" & \"children\" ')\n",
    "print(tree['children'][0].keys())"
   ]
  },
  {
   "cell_type": "markdown",
   "metadata": {},
   "source": [
    "### So I guess you see that our tree is a recursive object."
   ]
  },
  {
   "cell_type": "code",
   "execution_count": 3,
   "metadata": {},
   "outputs": [
    {
     "name": "stdout",
     "output_type": "stream",
     "text": [
      "First branch has the length of 3\n",
      "An element in branch is the node we saw above - it is a dictionary and has the following keys: dict_keys(['text', 'id', 'author', 'extra_data', 'timestamp'])\n",
      "\n",
      "Lets print the discussion:\n",
      "\n",
      "Slagernicus : Abortion should be legal in my opinion for 4 main  ...\n",
      "Hq3473 : Up until which point should abortion be legal? Sho ...\n",
      "Slagernicus : I'm not sure where in the pregnancy I would be ok  ...\n",
      "\n",
      "Now let's take a closer look at the last node in this branch - it has an extra key \"labels\":\n",
      "dict_keys(['author', 'text', 'id', 'extra_data', 'labels', 'timestamp'])\n",
      "The labels are: {'consolidated': ['CBK', 'SE']}\n"
     ]
    }
   ],
   "source": [
    "# A branch is a list of nodes - from root to leaf. Total number of branches equals to a number of leaves in tree.\n",
    "branch = branches[0]\n",
    "print('First branch has the length of', len(branch))\n",
    "print('An element in branch is the node we saw above - it is a dictionary and has the following keys:', branch[0].keys())\n",
    "print('\\nLets print the discussion:\\n')\n",
    "for node in branch:\n",
    "    print(node['author'],':',node['text'][:50],'...')\n",
    "print('\\nNow let\\'s take a closer look at the last node in this branch - it has an extra key \"labels\":')\n",
    "print(branch[2].keys())\n",
    "print('The labels are:',branch[2]['labels'])"
   ]
  },
  {
   "cell_type": "markdown",
   "metadata": {},
   "source": [
    "### So some of the nodes contain the 'labels' key. In the version of trees I gave you their structure will always be {'consolidated': [list_of_labels]}, meaning the given list is already after applying a consolidation. The raw data can be found in the 'extra_data' dict."
   ]
  },
  {
   "cell_type": "code",
   "execution_count": 4,
   "metadata": {},
   "outputs": [
    {
     "name": "stdout",
     "output_type": "stream",
     "text": [
      "Labeled nodes: 122 Out of total nodes: 123\n",
      "Our label frequencies for this tree are:\n",
      "Counter({'CBE': 88, 'OCQ': 22, 'IRR': 21, 'DNO': 19, 'RAA': 15, 'CBK': 14, 'SAC': 14, 'SC': 14, 'SA': 10, 'SAB': 9, 'SAS': 7, 'CA': 7, 'CBG': 7, 'OSB': 6, 'NA': 6, 'OTH': 5, 'SE': 4, 'ADT': 4, 'REP': 4, 'CBZ': 4, 'AGB': 4, 'BAD': 4, 'CBL': 3, 'ALO': 3, 'CBF': 2, 'SG': 1, 'SRC': 1, 'SF': 1, 'CBD': 1, 'CBA': 1, 'ANS': 1, 'CBN': 1, 'CDV': 1})\n"
     ]
    }
   ],
   "source": [
    "# How many labeled nodes do we have in this tree?\n",
    "labeled_nodes = [node for node in nodes if 'labels' in node and len(node['labels']['consolidated']) > 0]\n",
    "print('Labeled nodes:', len(labeled_nodes), 'Out of total nodes:',len(nodes)) \n",
    "# Surpirse! All labels except the root are labeled.\n",
    "from collections import Counter\n",
    "counted_labels = Counter([label for node in labeled_nodes for label in node['labels']['consolidated']])\n",
    "print('Our label frequencies for this tree are:')\n",
    "print(counted_labels)"
   ]
  },
  {
   "cell_type": "markdown",
   "metadata": {},
   "source": [
    "### Easy-peasy to work with labels."
   ]
  },
  {
   "cell_type": "code",
   "execution_count": 5,
   "metadata": {},
   "outputs": [
    {
     "name": "stdout",
     "output_type": "stream",
     "text": [
      "Deleted nodes: 2\n",
      "Texts that contain quotes: 29\n",
      "\n",
      " <quote>What ahout when fetus is half way out?</quote> <quote>Can she kill it then? </quote> Only if it is the safest and only way to preserve bodily autonomy. Essentially, she has the right to have it removed from her body in the safest way possible for her. If that ends up killing the baby, then so be it. \n",
      "\n",
      "Texts that contain mentions: 0\n",
      "Texts that contain mentions (another tree): 1\n",
      "\n",
      " bubi09 : If /u/philotrow has changed any aspect of your view, please consider giving them a delta. Read comment rule 4 and the delta instructions (both in our sidebar) on how/when to do this if you're unfamiliar with the delta system. Thanks! \n",
      "\n"
     ]
    }
   ],
   "source": [
    "# Now let's dive a bit into the text - sometimes it contains 'mentions', 'quotes' or is deleted/removed.\n",
    "print('Deleted nodes:',len([node['text'] for node in nodes if node['text'] == '[deleted]' or node['text'] =='[removed]']))\n",
    "# The nodes usually are deleted for two reasons: a user changes his mind and deletes his post, or an admin removes it for violating rules\n",
    "texts_with_quotes = [node['text'] for node in nodes if '<quote>' in node['text']]\n",
    "print('Texts that contain quotes:',len(texts_with_quotes))\n",
    "print('\\n',texts_with_quotes[0],'\\n')\n",
    "texts_with_mentions = [node['text'] for node in nodes if '/u/' in node['text']]\n",
    "print('Texts that contain mentions:',len(texts_with_mentions))\n",
    "# Oops.. no mentions here. May be in another tree?\n",
    "nodes_with_mentions = [node for node in tt.get_nodes(trees[1]) if '/u/' in node['text']]\n",
    "print('Texts that contain mentions (another tree):',len(nodes_with_mentions))\n",
    "# Bingo! Found a mention.\n",
    "print('\\n',nodes_with_mentions[0]['author'],':',nodes_with_mentions[0]['text'],'\\n')"
   ]
  },
  {
   "cell_type": "markdown",
   "metadata": {},
   "source": [
    "### This summarizes some special tweaks in the text."
   ]
  },
  {
   "cell_type": "code",
   "execution_count": 6,
   "metadata": {},
   "outputs": [
    {
     "name": "stdout",
     "output_type": "stream",
     "text": [
      "Extra data can have many keys: dict_keys(['file:line', 'subreddit', 'from_kind', 'from', 'title', 'num_comments', 'subreddit_id', 'downs', 'saved', 'from_id', 'permalink', 'name', 'url', 'ups'])\n",
      "Upvotes: 17 Downvotes: 0\n",
      "url: https://www.reddit.com/r/changemyview/comments/4rl42j/cmv_abortion_should_remain_legal/\n",
      "If we sort by 'OLD' a discussion on the reddit website, we'd get it exactly in the same order as we have it in our branches:\n",
      "https://www.reddit.com/r/changemyview/comments/4rl42j/cmv_abortion_should_remain_legal/?sort=old\n",
      "Pay attention that the ID of a tree appears also in the url: 4rl42j\n"
     ]
    }
   ],
   "source": [
    "# A bit deeper. ExtraData:\n",
    "extra_data = tree['node']['extra_data']\n",
    "print('Extra data can have many keys:',extra_data.keys())\n",
    "# A post can have 'downvotes' and 'upvotes':\n",
    "print('Upvotes:',extra_data['ups'],'Downvotes:',extra_data['downs'])\n",
    "# And we can easily find the original discussion on reddit using the 'url':\n",
    "print('url:',extra_data['url'])\n",
    "print('If we sort by \\'OLD\\' a discussion on the reddit website, we\\'d get it exactly in the same order as we have it in our branches:')\n",
    "print('https://www.reddit.com/r/changemyview/comments/4rl42j/cmv_abortion_should_remain_legal/?sort=old')\n",
    "print('Pay attention that the ID of a tree appears also in the url:',tree['node']['id'])"
   ]
  },
  {
   "cell_type": "markdown",
   "metadata": {},
   "source": [
    "### That's it for now. Feel free to ask questions if you need additional info."
   ]
  }
 ],
 "metadata": {
  "kernelspec": {
   "display_name": "Python 3",
   "language": "python",
   "name": "python3"
  },
  "language_info": {
   "codemirror_mode": {
    "name": "ipython",
    "version": 3
   },
   "file_extension": ".py",
   "mimetype": "text/x-python",
   "name": "python",
   "nbconvert_exporter": "python",
   "pygments_lexer": "ipython3",
   "version": "3.6.7"
  }
 },
 "nbformat": 4,
 "nbformat_minor": 2
}
